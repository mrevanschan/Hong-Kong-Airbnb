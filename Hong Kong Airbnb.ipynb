{
 "cells": [
  {
   "cell_type": "code",
   "execution_count": 89,
   "metadata": {},
   "outputs": [
    {
     "data": {
      "text/html": [
       "<div>\n",
       "<style scoped>\n",
       "    .dataframe tbody tr th:only-of-type {\n",
       "        vertical-align: middle;\n",
       "    }\n",
       "\n",
       "    .dataframe tbody tr th {\n",
       "        vertical-align: top;\n",
       "    }\n",
       "\n",
       "    .dataframe thead th {\n",
       "        text-align: right;\n",
       "    }\n",
       "</style>\n",
       "<table border=\"1\" class=\"dataframe\">\n",
       "  <thead>\n",
       "    <tr style=\"text-align: right;\">\n",
       "      <th></th>\n",
       "      <th>listing_id</th>\n",
       "      <th>date</th>\n",
       "      <th>available</th>\n",
       "      <th>price</th>\n",
       "      <th>adjusted_price</th>\n",
       "    </tr>\n",
       "  </thead>\n",
       "  <tbody>\n",
       "    <tr>\n",
       "      <th>0</th>\n",
       "      <td>69074</td>\n",
       "      <td>2019-09-20</td>\n",
       "      <td>f</td>\n",
       "      <td>$1,104.00</td>\n",
       "      <td>$1,104.00</td>\n",
       "    </tr>\n",
       "    <tr>\n",
       "      <th>1</th>\n",
       "      <td>69074</td>\n",
       "      <td>2019-09-21</td>\n",
       "      <td>f</td>\n",
       "      <td>$1,104.00</td>\n",
       "      <td>$1,104.00</td>\n",
       "    </tr>\n",
       "    <tr>\n",
       "      <th>2</th>\n",
       "      <td>69074</td>\n",
       "      <td>2019-09-22</td>\n",
       "      <td>f</td>\n",
       "      <td>$1,065.00</td>\n",
       "      <td>$1,065.00</td>\n",
       "    </tr>\n",
       "    <tr>\n",
       "      <th>3</th>\n",
       "      <td>69074</td>\n",
       "      <td>2019-09-23</td>\n",
       "      <td>f</td>\n",
       "      <td>$1,073.00</td>\n",
       "      <td>$1,073.00</td>\n",
       "    </tr>\n",
       "    <tr>\n",
       "      <th>4</th>\n",
       "      <td>69074</td>\n",
       "      <td>2019-09-24</td>\n",
       "      <td>f</td>\n",
       "      <td>$1,300.00</td>\n",
       "      <td>$1,300.00</td>\n",
       "    </tr>\n",
       "  </tbody>\n",
       "</table>\n",
       "</div>"
      ],
      "text/plain": [
       "   listing_id        date available      price adjusted_price\n",
       "0       69074  2019-09-20         f  $1,104.00      $1,104.00\n",
       "1       69074  2019-09-21         f  $1,104.00      $1,104.00\n",
       "2       69074  2019-09-22         f  $1,065.00      $1,065.00\n",
       "3       69074  2019-09-23         f  $1,073.00      $1,073.00\n",
       "4       69074  2019-09-24         f  $1,300.00      $1,300.00"
      ]
     },
     "execution_count": 89,
     "metadata": {},
     "output_type": "execute_result"
    }
   ],
   "source": [
    "import numpy as np # linear algebra\n",
    "import pandas as pd\n",
    "import datetime\n",
    "import seaborn as sns\n",
    "from sklearn.model_selection import train_test_split\n",
    "from sklearn.linear_model import LinearRegression\n",
    "from sklearn.ensemble import RandomForestRegressor\n",
    "from sklearn.metrics import r2_score, mean_squared_error,median_absolute_error\n",
    "import matplotlib.pyplot as plt\n",
    "calendar = pd.read_csv('calendar.csv').drop(['minimum_nights','maximum_nights'],axis=1)\n",
    "calendar.head()"
   ]
  },
  {
   "cell_type": "code",
   "execution_count": 90,
   "metadata": {},
   "outputs": [
    {
     "data": {
      "text/plain": [
       "listing_id        0.000000\n",
       "date              0.000000\n",
       "available         0.000000\n",
       "price             0.000037\n",
       "adjusted_price    0.000037\n",
       "dtype: float64"
      ]
     },
     "execution_count": 90,
     "metadata": {},
     "output_type": "execute_result"
    }
   ],
   "source": [
    "#check for null values\n",
    "calendar.isnull().mean()"
   ]
  },
  {
   "cell_type": "code",
   "execution_count": 91,
   "metadata": {},
   "outputs": [
    {
     "data": {
      "text/plain": [
       "listing_id         int64\n",
       "date              object\n",
       "available         object\n",
       "price             object\n",
       "adjusted_price    object\n",
       "dtype: object"
      ]
     },
     "execution_count": 91,
     "metadata": {},
     "output_type": "execute_result"
    }
   ],
   "source": [
    "calendar.dtypes"
   ]
  },
  {
   "cell_type": "code",
   "execution_count": 92,
   "metadata": {},
   "outputs": [],
   "source": [
    "calendar['available'] = calendar['available'].map({'t': True, 'f': False})\n",
    "calendar['date'] = pd.to_datetime(calendar['date'])\n",
    "calendar['price'] = pd.to_numeric(calendar['price'].str.replace('$','').str.replace(',',''));\n",
    "calendar['adjusted_price'] = pd.to_numeric(calendar['adjusted_price'].str.replace('$','').str.replace(',',''));\n",
    "calendar['delta_price'] = calendar['adjusted_price'] - calendar['price']"
   ]
  },
  {
   "cell_type": "code",
   "execution_count": 93,
   "metadata": {},
   "outputs": [
    {
     "data": {
      "text/plain": [
       "listing_id                 int64\n",
       "date              datetime64[ns]\n",
       "available                   bool\n",
       "price                    float64\n",
       "adjusted_price           float64\n",
       "delta_price              float64\n",
       "dtype: object"
      ]
     },
     "execution_count": 93,
     "metadata": {},
     "output_type": "execute_result"
    }
   ],
   "source": [
    "calendar.dtypes"
   ]
  },
  {
   "cell_type": "code",
   "execution_count": 94,
   "metadata": {},
   "outputs": [
    {
     "data": {
      "text/html": [
       "<div>\n",
       "<style scoped>\n",
       "    .dataframe tbody tr th:only-of-type {\n",
       "        vertical-align: middle;\n",
       "    }\n",
       "\n",
       "    .dataframe tbody tr th {\n",
       "        vertical-align: top;\n",
       "    }\n",
       "\n",
       "    .dataframe thead th {\n",
       "        text-align: right;\n",
       "    }\n",
       "</style>\n",
       "<table border=\"1\" class=\"dataframe\">\n",
       "  <thead>\n",
       "    <tr style=\"text-align: right;\">\n",
       "      <th></th>\n",
       "      <th>listing_id</th>\n",
       "      <th>date</th>\n",
       "      <th>available</th>\n",
       "      <th>price</th>\n",
       "      <th>adjusted_price</th>\n",
       "      <th>delta_price</th>\n",
       "    </tr>\n",
       "  </thead>\n",
       "  <tbody>\n",
       "    <tr>\n",
       "      <th>0</th>\n",
       "      <td>69074</td>\n",
       "      <td>2019-09-20</td>\n",
       "      <td>False</td>\n",
       "      <td>1104.0</td>\n",
       "      <td>1104.0</td>\n",
       "      <td>0.0</td>\n",
       "    </tr>\n",
       "    <tr>\n",
       "      <th>1</th>\n",
       "      <td>69074</td>\n",
       "      <td>2019-09-21</td>\n",
       "      <td>False</td>\n",
       "      <td>1104.0</td>\n",
       "      <td>1104.0</td>\n",
       "      <td>0.0</td>\n",
       "    </tr>\n",
       "    <tr>\n",
       "      <th>2</th>\n",
       "      <td>69074</td>\n",
       "      <td>2019-09-22</td>\n",
       "      <td>False</td>\n",
       "      <td>1065.0</td>\n",
       "      <td>1065.0</td>\n",
       "      <td>0.0</td>\n",
       "    </tr>\n",
       "    <tr>\n",
       "      <th>3</th>\n",
       "      <td>69074</td>\n",
       "      <td>2019-09-23</td>\n",
       "      <td>False</td>\n",
       "      <td>1073.0</td>\n",
       "      <td>1073.0</td>\n",
       "      <td>0.0</td>\n",
       "    </tr>\n",
       "    <tr>\n",
       "      <th>4</th>\n",
       "      <td>69074</td>\n",
       "      <td>2019-09-24</td>\n",
       "      <td>False</td>\n",
       "      <td>1300.0</td>\n",
       "      <td>1300.0</td>\n",
       "      <td>0.0</td>\n",
       "    </tr>\n",
       "  </tbody>\n",
       "</table>\n",
       "</div>"
      ],
      "text/plain": [
       "   listing_id       date  available   price  adjusted_price  delta_price\n",
       "0       69074 2019-09-20      False  1104.0          1104.0          0.0\n",
       "1       69074 2019-09-21      False  1104.0          1104.0          0.0\n",
       "2       69074 2019-09-22      False  1065.0          1065.0          0.0\n",
       "3       69074 2019-09-23      False  1073.0          1073.0          0.0\n",
       "4       69074 2019-09-24      False  1300.0          1300.0          0.0"
      ]
     },
     "execution_count": 94,
     "metadata": {},
     "output_type": "execute_result"
    }
   ],
   "source": [
    "calendar.head()"
   ]
  },
  {
   "cell_type": "code",
   "execution_count": 95,
   "metadata": {},
   "outputs": [
    {
     "data": {
      "text/plain": [
       "<matplotlib.axes._subplots.AxesSubplot at 0x1ab67e66a0>"
      ]
     },
     "execution_count": 95,
     "metadata": {},
     "output_type": "execute_result"
    },
    {
     "data": {
      "image/png": "[encoded data removed]",
      "text/plain": [
       "<Figure size 432x288 with 1 Axes>"
      ]
     },
     "metadata": {},
     "output_type": "display_data"
    }
   ],
   "source": [
    "calendar.groupby(calendar['date'].dt.strftime('%B'),\n",
    "                                 sort=False)['price'].mean().reindex(index = ['December','November','October','September','August','July','June','May','April','March','February','January']).plot(kind = 'barh')"
   ]
  },
  {
   "cell_type": "code",
   "execution_count": 96,
   "metadata": {},
   "outputs": [
    {
     "data": {
      "image/png": "[encoded data removed]",
      "text/plain": [
       "<Figure size 432x288 with 1 Axes>"
      ]
     },
     "metadata": {},
     "output_type": "display_data"
    }
   ],
   "source": [
    "ax = calendar.groupby(calendar['date'].dt.strftime('%B'),\n",
    "                                 sort=False)['adjusted_price'].mean().reindex(index = ['December','November','October','September','August','July','June','May','April','March','February','January']).plot(kind = 'barh')\n",
    "ax.get_yaxis().get_label().set_visible(False)"
   ]
  },
  {
   "cell_type": "code",
   "execution_count": 97,
   "metadata": {},
   "outputs": [
    {
     "data": {
      "text/plain": [
       "<matplotlib.axes._subplots.AxesSubplot at 0x1a74ccd6a0>"
      ]
     },
     "execution_count": 97,
     "metadata": {},
     "output_type": "execute_result"
    },
    {
     "data": {
      "image/png": "[encoded data removed]",
      "text/plain": [
       "<Figure size 432x288 with 1 Axes>"
      ]
     },
     "metadata": {},
     "output_type": "display_data"
    }
   ],
   "source": [
    "calendar.groupby(calendar['date'].dt.strftime('%B'),\n",
    "                                 sort=False)['delta_price'].mean().reindex(index = ['December','November','October','September','August','July','June','May','April','March','February','January']).plot(kind = 'barh')\n"
   ]
  },
  {
   "cell_type": "code",
   "execution_count": 98,
   "metadata": {},
   "outputs": [
    {
     "data": {
      "text/plain": [
       "<matplotlib.axes._subplots.AxesSubplot at 0x1a57f52550>"
      ]
     },
     "execution_count": 98,
     "metadata": {},
     "output_type": "execute_result"
    },
    {
     "data": {
      "image/png": "[encoded data removed]",
      "text/plain": [
       "<Figure size 432x288 with 1 Axes>"
      ]
     },
     "metadata": {},
     "output_type": "display_data"
    }
   ],
   "source": [
    "calendar.groupby(calendar['date'].dt.strftime('%A'),sort=False)['price'].mean().reindex(index=['Sunday','Saturday','Friday','Thursday','Wednesday','Tuesday','Monday']).plot(kind = 'barh')\n"
   ]
  },
  {
   "cell_type": "code",
   "execution_count": 99,
   "metadata": {},
   "outputs": [
    {
     "data": {
      "image/png": "[encoded data removed]",
      "text/plain": [
       "<Figure size 432x288 with 1 Axes>"
      ]
     },
     "metadata": {},
     "output_type": "display_data"
    }
   ],
   "source": [
    "ax = calendar.groupby(calendar['date'].dt.strftime('%A'),sort=False)['adjusted_price'].mean().reindex(index=['Sunday','Saturday','Friday','Thursday','Wednesday','Tuesday','Monday']).plot(kind = 'barh')\n",
    "ax.get_yaxis().get_label().set_visible(False)"
   ]
  },
  {
   "cell_type": "code",
   "execution_count": 100,
   "metadata": {},
   "outputs": [
    {
     "data": {
      "text/plain": [
       "<matplotlib.axes._subplots.AxesSubplot at 0x1a5846c278>"
      ]
     },
     "execution_count": 100,
     "metadata": {},
     "output_type": "execute_result"
    },
    {
     "data": {
      "image/png": "[encoded data removed]",
      "text/plain": [
       "<Figure size 432x288 with 1 Axes>"
      ]
     },
     "metadata": {},
     "output_type": "display_data"
    }
   ],
   "source": [
    "calendar.groupby(calendar['date'].dt.strftime('%A'),sort=False)['delta_price'].mean().reindex(index=['Sunday','Saturday','Friday','Thursday','Wednesday','Tuesday','Monday']).plot(kind = 'barh')\n"
   ]
  },
  {
   "cell_type": "code",
   "execution_count": 101,
   "metadata": {},
   "outputs": [
    {
     "name": "stderr",
     "output_type": "stream",
     "text": [
      "/anaconda3/lib/python3.6/site-packages/IPython/core/interactiveshell.py:2785: DtypeWarning: Columns (61,62,94) have mixed types. Specify dtype option on import or set low_memory=False.\n",
      "  interactivity=interactivity, compiler=compiler, result=result)\n"
     ]
    }
   ],
   "source": [
    "listing = pd.read_csv('listings.csv')\n",
    "listing['price'] = pd.to_numeric(listing['price'].str.replace('$','').str.replace(',',''));\n",
    "listing = listing.drop(['id','listing_url','scrape_id','last_scraped','host_id','country','country_code','calculated_host_listings_count','calculated_host_listings_count_entire_homes','calculated_host_listings_count_private_rooms','calculated_host_listings_count_shared_rooms','calendar_last_scraped'],axis=1)"
   ]
  },
  {
   "cell_type": "code",
   "execution_count": 102,
   "metadata": {},
   "outputs": [
    {
     "data": {
      "image/png": "[encoded data removed]",
      "text/plain": [
       "<Figure size 720x432 with 1 Axes>"
      ]
     },
     "metadata": {},
     "output_type": "display_data"
    }
   ],
   "source": [
    "plt.figure(figsize=(10, 6))\n",
    "ax = sns.boxplot(data=listing, orient=\"h\", x='price',y='neighbourhood_cleansed',showfliers=False)\n",
    "ax.get_yaxis().get_label().set_visible(False)"
   ]
  },
  {
   "cell_type": "code",
   "execution_count": 103,
   "metadata": {},
   "outputs": [
    {
     "data": {
      "text/plain": [
       "['name',\n",
       " 'summary',\n",
       " 'space',\n",
       " 'description',\n",
       " 'experiences_offered',\n",
       " 'neighborhood_overview',\n",
       " 'notes',\n",
       " 'transit',\n",
       " 'access',\n",
       " 'interaction',\n",
       " 'house_rules',\n",
       " 'thumbnail_url',\n",
       " 'medium_url',\n",
       " 'picture_url',\n",
       " 'xl_picture_url',\n",
       " 'host_url',\n",
       " 'host_name',\n",
       " 'host_since',\n",
       " 'host_location',\n",
       " 'host_about',\n",
       " 'host_response_time',\n",
       " 'host_response_rate',\n",
       " 'host_acceptance_rate',\n",
       " 'host_is_superhost',\n",
       " 'host_thumbnail_url',\n",
       " 'host_picture_url',\n",
       " 'host_neighbourhood',\n",
       " 'host_listings_count',\n",
       " 'host_total_listings_count',\n",
       " 'host_verifications',\n",
       " 'host_has_profile_pic',\n",
       " 'host_identity_verified',\n",
       " 'street',\n",
       " 'neighbourhood',\n",
       " 'neighbourhood_cleansed',\n",
       " 'neighbourhood_group_cleansed',\n",
       " 'city',\n",
       " 'state',\n",
       " 'zipcode',\n",
       " 'market',\n",
       " 'smart_location',\n",
       " 'latitude',\n",
       " 'longitude',\n",
       " 'is_location_exact',\n",
       " 'property_type',\n",
       " 'room_type',\n",
       " 'accommodates',\n",
       " 'bathrooms',\n",
       " 'bedrooms',\n",
       " 'beds',\n",
       " 'bed_type',\n",
       " 'amenities',\n",
       " 'square_feet',\n",
       " 'price',\n",
       " 'weekly_price',\n",
       " 'monthly_price',\n",
       " 'security_deposit',\n",
       " 'cleaning_fee',\n",
       " 'guests_included',\n",
       " 'extra_people',\n",
       " 'minimum_nights',\n",
       " 'maximum_nights',\n",
       " 'minimum_minimum_nights',\n",
       " 'maximum_minimum_nights',\n",
       " 'minimum_maximum_nights',\n",
       " 'maximum_maximum_nights',\n",
       " 'minimum_nights_avg_ntm',\n",
       " 'maximum_nights_avg_ntm',\n",
       " 'calendar_updated',\n",
       " 'has_availability',\n",
       " 'availability_30',\n",
       " 'availability_60',\n",
       " 'availability_90',\n",
       " 'availability_365',\n",
       " 'number_of_reviews',\n",
       " 'number_of_reviews_ltm',\n",
       " 'first_review',\n",
       " 'last_review',\n",
       " 'review_scores_rating',\n",
       " 'review_scores_accuracy',\n",
       " 'review_scores_cleanliness',\n",
       " 'review_scores_checkin',\n",
       " 'review_scores_communication',\n",
       " 'review_scores_location',\n",
       " 'review_scores_value',\n",
       " 'requires_license',\n",
       " 'license',\n",
       " 'jurisdiction_names',\n",
       " 'instant_bookable',\n",
       " 'is_business_travel_ready',\n",
       " 'cancellation_policy',\n",
       " 'require_guest_profile_picture',\n",
       " 'require_guest_phone_verification',\n",
       " 'reviews_per_month']"
      ]
     },
     "execution_count": 103,
     "metadata": {},
     "output_type": "execute_result"
    }
   ],
   "source": [
    "list(listing.columns)"
   ]
  },
  {
   "cell_type": "code",
   "execution_count": 104,
   "metadata": {},
   "outputs": [
    {
     "name": "stdout",
     "output_type": "stream",
     "text": [
      "Dropping column 'notes' with %57.28 missing data\n",
      "Dropping column 'access' with %56.76 missing data\n",
      "Dropping column 'interaction' with %52.7 missing data\n",
      "Dropping column 'house_rules' with %52.51 missing data\n",
      "Dropping column 'thumbnail_url' with %100.0 missing data\n",
      "Dropping column 'medium_url' with %100.0 missing data\n",
      "Dropping column 'xl_picture_url' with %100.0 missing data\n",
      "Dropping column 'host_acceptance_rate' with %100.0 missing data\n",
      "Dropping column 'neighbourhood_group_cleansed' with %100.0 missing data\n",
      "Dropping column 'zipcode' with %93.04 missing data\n",
      "Dropping column 'square_feet' with %99.56 missing data\n",
      "Dropping column 'weekly_price' with %94.41 missing data\n",
      "Dropping column 'monthly_price' with %93.83 missing data\n",
      "Dropping column 'license' with %99.9 missing data\n",
      "Dropping column 'jurisdiction_names' with %100.0 missing data\n"
     ]
    }
   ],
   "source": [
    "dropping = []\n",
    "for colName in listing.columns:\n",
    "    if(listing[colName].isnull().mean() > 0.5):\n",
    "        dropping.append(colName)\n",
    "        print(\"Dropping column '\" + colName + \"' with %\" + str( round(listing[colName].isnull().mean()*100,2) ) + \" missing data\")\n",
    "        \n",
    "listing = listing.drop(dropping,axis=1)"
   ]
  },
  {
   "cell_type": "code",
   "execution_count": 105,
   "metadata": {},
   "outputs": [],
   "source": [
    "object = list(listing.columns[listing.dtypes == 'object'])\n",
    "nonobject = list(listing.columns[listing.dtypes != 'object'])"
   ]
  },
  {
   "cell_type": "code",
   "execution_count": 106,
   "metadata": {},
   "outputs": [
    {
     "data": {
      "text/plain": [
       "host_listings_count              59\n",
       "host_total_listings_count        59\n",
       "latitude                       5869\n",
       "longitude                      5882\n",
       "accommodates                     16\n",
       "bathrooms                        17\n",
       "bedrooms                         12\n",
       "beds                             19\n",
       "price                           370\n",
       "guests_included                  15\n",
       "minimum_nights                   54\n",
       "maximum_nights                  144\n",
       "minimum_minimum_nights           52\n",
       "maximum_minimum_nights           57\n",
       "minimum_maximum_nights          144\n",
       "maximum_maximum_nights          144\n",
       "minimum_nights_avg_ntm          147\n",
       "maximum_nights_avg_ntm          172\n",
       "availability_30                  31\n",
       "availability_60                  61\n",
       "availability_90                  91\n",
       "availability_365                364\n",
       "number_of_reviews               295\n",
       "number_of_reviews_ltm           118\n",
       "review_scores_rating             46\n",
       "review_scores_accuracy            9\n",
       "review_scores_cleanliness         9\n",
       "review_scores_checkin             8\n",
       "review_scores_communication       9\n",
       "review_scores_location            8\n",
       "review_scores_value               9\n",
       "reviews_per_month               719\n",
       "dtype: int64"
      ]
     },
     "execution_count": 106,
     "metadata": {},
     "output_type": "execute_result"
    }
   ],
   "source": [
    "listing[nonobject].nunique()"
   ]
  },
  {
   "cell_type": "code",
   "execution_count": 107,
   "metadata": {},
   "outputs": [],
   "source": [
    "listing.update(listing[nonobject].fillna(0))"
   ]
  },
  {
   "cell_type": "code",
   "execution_count": 108,
   "metadata": {},
   "outputs": [
    {
     "data": {
      "text/plain": [
       "host_response_time                   4\n",
       "host_is_superhost                    2\n",
       "host_has_profile_pic                 2\n",
       "host_identity_verified               2\n",
       "neighbourhood_cleansed              18\n",
       "market                              12\n",
       "is_location_exact                    2\n",
       "room_type                            4\n",
       "bed_type                             5\n",
       "instant_bookable                     2\n",
       "cancellation_policy                  6\n",
       "require_guest_profile_picture        2\n",
       "require_guest_phone_verification     2\n",
       "dtype: int64"
      ]
     },
     "execution_count": 108,
     "metadata": {},
     "output_type": "execute_result"
    }
   ],
   "source": [
    "distinct_values = listing[object].nunique()\n",
    "listing = listing.drop(distinct_values[(distinct_values == 1)|(distinct_values>30)].keys(),axis=1)\n",
    "distinct_values[(distinct_values != 1)&(distinct_values<30)]"
   ]
  },
  {
   "cell_type": "code",
   "execution_count": 109,
   "metadata": {},
   "outputs": [
    {
     "data": {
      "text/plain": [
       "Hong Kong                 11405\n",
       "Kowloon Peninsula           572\n",
       "Hong Kong Island North      398\n",
       "New Territories (HK)        148\n",
       "Hong Kong Island South       49\n",
       "Islands (HK)                 20\n",
       "Lantau                       20\n",
       "Shenzhen                      1\n",
       "Other (International)         1\n",
       "Bangkok                       1\n",
       "Cologne                       1\n",
       "Other (Domestic)              1\n",
       "Name: market, dtype: int64"
      ]
     },
     "execution_count": 109,
     "metadata": {},
     "output_type": "execute_result"
    }
   ],
   "source": [
    "listing['market'].value_counts()"
   ]
  },
  {
   "cell_type": "code",
   "execution_count": 110,
   "metadata": {},
   "outputs": [],
   "source": [
    "temp = listing['market'].value_counts()\n",
    "for colName in temp[temp<25].keys():\n",
    "    listing['market'] = listing['market'].replace(colName,'Other');"
   ]
  },
  {
   "cell_type": "code",
   "execution_count": 111,
   "metadata": {},
   "outputs": [
    {
     "name": "stdout",
     "output_type": "stream",
     "text": [
      "host_is_superhost contains ['f' 't' nan]\n",
      "host_has_profile_pic contains ['t' 'f' nan]\n",
      "host_identity_verified contains ['t' 'f' nan]\n",
      "is_location_exact contains ['t' 'f']\n",
      "instant_bookable contains ['f' 't']\n",
      "require_guest_profile_picture contains ['f' 't']\n",
      "require_guest_phone_verification contains ['f' 't']\n"
     ]
    }
   ],
   "source": [
    "for colName in (distinct_values[distinct_values ==2].keys()):\n",
    "    print(colName + \" contains \"+ str(listing[colName].unique()))"
   ]
  },
  {
   "cell_type": "code",
   "execution_count": 112,
   "metadata": {},
   "outputs": [],
   "source": [
    "listing.host_is_superhost = listing.host_is_superhost.replace('t',True).replace('f',False).fillna(False)\n",
    "listing.host_has_profile_pic = listing.host_has_profile_pic.replace('t',True).replace('f',False).fillna(False)\n",
    "listing.host_identity_verified = listing.host_identity_verified.replace('t',True).replace('f',False).fillna(False)\n",
    "listing.is_location_exact = listing.is_location_exact.replace('t',True).replace('f',False)\n",
    "listing.instant_bookable = listing.instant_bookable.replace('t',True).replace('f',False)\n",
    "listing.require_guest_profile_picture = listing.require_guest_profile_picture.replace('t',True).replace('f',False)\n",
    "listing.require_guest_phone_verification = listing.require_guest_phone_verification.replace('t',True).replace('f',False)"
   ]
  },
  {
   "cell_type": "code",
   "execution_count": 113,
   "metadata": {},
   "outputs": [],
   "source": [
    "def create_dummy_df(df, cat_cols):\n",
    "    for col in  cat_cols:\n",
    "        try:\n",
    "            # for each cat add dummy var, drop original column\n",
    "            df = pd.concat([df.drop(col, axis=1), pd.get_dummies(df[col], prefix=col, prefix_sep='_', drop_first=True, dummy_na=df[col].isnull().mean()>0)], axis=1)\n",
    "        except:\n",
    "            continue\n",
    "    return df\n",
    "listing = create_dummy_df(listing,list(listing.columns[listing.dtypes == 'object']))"
   ]
  },
  {
   "cell_type": "code",
   "execution_count": 114,
   "metadata": {},
   "outputs": [
    {
     "data": {
      "text/plain": [
       "Index(['host_is_superhost', 'host_listings_count', 'host_total_listings_count',\n",
       "       'host_has_profile_pic', 'host_identity_verified', 'latitude',\n",
       "       'longitude', 'is_location_exact', 'accommodates', 'bathrooms',\n",
       "       'bedrooms', 'beds', 'guests_included', 'minimum_nights',\n",
       "       'maximum_nights', 'minimum_minimum_nights', 'maximum_minimum_nights',\n",
       "       'minimum_maximum_nights', 'maximum_maximum_nights',\n",
       "       'minimum_nights_avg_ntm', 'maximum_nights_avg_ntm', 'availability_30',\n",
       "       'availability_60', 'availability_90', 'availability_365',\n",
       "       'number_of_reviews', 'number_of_reviews_ltm', 'review_scores_rating',\n",
       "       'review_scores_accuracy', 'review_scores_cleanliness',\n",
       "       'review_scores_checkin', 'review_scores_communication',\n",
       "       'review_scores_location', 'review_scores_value', 'instant_bookable',\n",
       "       'require_guest_profile_picture', 'require_guest_phone_verification',\n",
       "       'reviews_per_month', 'host_response_time_within a day',\n",
       "       'host_response_time_within a few hours',\n",
       "       'host_response_time_within an hour', 'host_response_time_nan',\n",
       "       'neighbourhood_cleansed_Eastern', 'neighbourhood_cleansed_Islands',\n",
       "       'neighbourhood_cleansed_Kowloon City',\n",
       "       'neighbourhood_cleansed_Kwai Tsing', 'neighbourhood_cleansed_Kwun Tong',\n",
       "       'neighbourhood_cleansed_North', 'neighbourhood_cleansed_Sai Kung',\n",
       "       'neighbourhood_cleansed_Sha Tin', 'neighbourhood_cleansed_Sham Shui Po',\n",
       "       'neighbourhood_cleansed_Southern', 'neighbourhood_cleansed_Tai Po',\n",
       "       'neighbourhood_cleansed_Tsuen Wan', 'neighbourhood_cleansed_Tuen Mun',\n",
       "       'neighbourhood_cleansed_Wan Chai',\n",
       "       'neighbourhood_cleansed_Wong Tai Sin',\n",
       "       'neighbourhood_cleansed_Yau Tsim Mong',\n",
       "       'neighbourhood_cleansed_Yuen Long', 'market_Hong Kong Island North',\n",
       "       'market_Hong Kong Island South', 'market_Kowloon Peninsula',\n",
       "       'market_New Territories (HK)', 'market_Other', 'market_nan',\n",
       "       'room_type_Hotel room', 'room_type_Private room',\n",
       "       'room_type_Shared room', 'bed_type_Couch', 'bed_type_Futon',\n",
       "       'bed_type_Pull-out Sofa', 'bed_type_Real Bed',\n",
       "       'cancellation_policy_moderate', 'cancellation_policy_strict',\n",
       "       'cancellation_policy_strict_14_with_grace_period',\n",
       "       'cancellation_policy_super_strict_30',\n",
       "       'cancellation_policy_super_strict_60'],\n",
       "      dtype='object')"
      ]
     },
     "execution_count": 114,
     "metadata": {},
     "output_type": "execute_result"
    }
   ],
   "source": [
    "X = listing.drop(['price'], axis=1)\n",
    "y = listing['price']\n",
    "X_train, X_test, y_train, y_test = train_test_split(X, y, test_size = .30, random_state=42)\n",
    "X.columns"
   ]
  },
  {
   "cell_type": "code",
   "execution_count": 115,
   "metadata": {},
   "outputs": [
    {
     "name": "stdout",
     "output_type": "stream",
     "text": [
      "0.017396652386775013\n",
      "4737049.1194366375\n",
      "131.90599999999995\n"
     ]
    }
   ],
   "source": [
    "ForestRegressor = RandomForestRegressor(n_estimators=500)\n",
    "ForestRegressor.fit(X_train, y_train)\n",
    "y_test_preds = ForestRegressor.predict(X_test)\n",
    "print(r2_score(y_test, y_test_preds))\n",
    "print(mean_squared_error(y_test, y_test_preds))\n",
    "print(median_absolute_error(y_test, y_test_preds))"
   ]
  },
  {
   "cell_type": "code",
   "execution_count": 121,
   "metadata": {},
   "outputs": [
    {
     "data": {
      "text/html": [
       "<div>\n",
       "<style scoped>\n",
       "    .dataframe tbody tr th:only-of-type {\n",
       "        vertical-align: middle;\n",
       "    }\n",
       "\n",
       "    .dataframe tbody tr th {\n",
       "        vertical-align: top;\n",
       "    }\n",
       "\n",
       "    .dataframe thead th {\n",
       "        text-align: right;\n",
       "    }\n",
       "</style>\n",
       "<table border=\"1\" class=\"dataframe\">\n",
       "  <thead>\n",
       "    <tr style=\"text-align: right;\">\n",
       "      <th></th>\n",
       "      <th>est_int</th>\n",
       "      <th>coeff</th>\n",
       "    </tr>\n",
       "  </thead>\n",
       "  <tbody>\n",
       "    <tr>\n",
       "      <th>5</th>\n",
       "      <td>latitude</td>\n",
       "      <td>0.241714</td>\n",
       "    </tr>\n",
       "    <tr>\n",
       "      <th>6</th>\n",
       "      <td>longitude</td>\n",
       "      <td>0.123632</td>\n",
       "    </tr>\n",
       "    <tr>\n",
       "      <th>10</th>\n",
       "      <td>bedrooms</td>\n",
       "      <td>0.044397</td>\n",
       "    </tr>\n",
       "    <tr>\n",
       "      <th>37</th>\n",
       "      <td>reviews_per_month</td>\n",
       "      <td>0.037585</td>\n",
       "    </tr>\n",
       "    <tr>\n",
       "      <th>24</th>\n",
       "      <td>availability_365</td>\n",
       "      <td>0.036370</td>\n",
       "    </tr>\n",
       "    <tr>\n",
       "      <th>11</th>\n",
       "      <td>beds</td>\n",
       "      <td>0.033461</td>\n",
       "    </tr>\n",
       "    <tr>\n",
       "      <th>9</th>\n",
       "      <td>bathrooms</td>\n",
       "      <td>0.032828</td>\n",
       "    </tr>\n",
       "    <tr>\n",
       "      <th>8</th>\n",
       "      <td>accommodates</td>\n",
       "      <td>0.031196</td>\n",
       "    </tr>\n",
       "    <tr>\n",
       "      <th>25</th>\n",
       "      <td>number_of_reviews</td>\n",
       "      <td>0.025132</td>\n",
       "    </tr>\n",
       "    <tr>\n",
       "      <th>26</th>\n",
       "      <td>number_of_reviews_ltm</td>\n",
       "      <td>0.025060</td>\n",
       "    </tr>\n",
       "  </tbody>\n",
       "</table>\n",
       "</div>"
      ],
      "text/plain": [
       "                  est_int     coeff\n",
       "5                latitude  0.241714\n",
       "6               longitude  0.123632\n",
       "10               bedrooms  0.044397\n",
       "37      reviews_per_month  0.037585\n",
       "24       availability_365  0.036370\n",
       "11                   beds  0.033461\n",
       "9               bathrooms  0.032828\n",
       "8            accommodates  0.031196\n",
       "25      number_of_reviews  0.025132\n",
       "26  number_of_reviews_ltm  0.025060"
      ]
     },
     "execution_count": 121,
     "metadata": {},
     "output_type": "execute_result"
    }
   ],
   "source": [
    "coeff_dataframe = pd.DataFrame()\n",
    "\n",
    "coeff_dataframe['est_int'] = X_train.columns\n",
    "coeff_dataframe['coeff'] = ForestRegressor.feature_importances_\n",
    "coeff_dataframe.sort_values('coeff', ascending=False).head(10)"
   ]
  },
  {
   "cell_type": "code",
   "execution_count": null,
   "metadata": {},
   "outputs": [],
   "source": []
  }
 ],
 "metadata": {
  "kernelspec": {
   "display_name": "Python [default]",
   "language": "python",
   "name": "python3"
  },
  "language_info": {
   "codemirror_mode": {
    "name": "ipython",
    "version": 3
   },
   "file_extension": ".py",
   "mimetype": "text/x-python",
   "name": "python",
   "nbconvert_exporter": "python",
   "pygments_lexer": "ipython3",
   "version": "3.6.5"
  }
 },
 "nbformat": 4,
 "nbformat_minor": 2
}
